{
 "cells": [
  {
   "cell_type": "code",
   "execution_count": 1,
   "metadata": {},
   "outputs": [],
   "source": [
    "consumer_key = \"xPdL7cT5vIkspHsfwDgcjzT0i\"\n",
    "consumer_secret = \"S0vuAEyc1g4PtFVeFX7GCPj0lz5VizuZ3VFjb4joQ2qeZCW0LO\"\n",
    "access_token = \"1276871043567607808-Tb53fylX149zN9Iskh6MfK8TgQk3EB\"\n",
    "access_token_secret = \"rMPbZr6mZhXymcuoMVzkKIhbHV7dMjoHMmHiNNdFAlLkp\""
   ]
  },
  {
   "cell_type": "code",
   "execution_count": 2,
   "metadata": {},
   "outputs": [
    {
     "name": "stdout",
     "output_type": "stream",
     "text": [
      "Requirement already satisfied: tweepy in c:\\users\\dell\\anaconda3\\lib\\site-packages (3.8.0)\n",
      "Requirement already satisfied: requests>=2.11.1 in c:\\users\\dell\\anaconda3\\lib\\site-packages (from tweepy) (2.22.0)\n",
      "Requirement already satisfied: requests-oauthlib>=0.7.0 in c:\\users\\dell\\anaconda3\\lib\\site-packages (from tweepy) (1.3.0)\n",
      "Requirement already satisfied: PySocks>=1.5.7 in c:\\users\\dell\\anaconda3\\lib\\site-packages (from tweepy) (1.7.0)\n",
      "Requirement already satisfied: six>=1.10.0 in c:\\users\\dell\\anaconda3\\lib\\site-packages (from tweepy) (1.12.0)\n",
      "Requirement already satisfied: chardet<3.1.0,>=3.0.2 in c:\\users\\dell\\anaconda3\\lib\\site-packages (from requests>=2.11.1->tweepy) (3.0.4)\n",
      "Requirement already satisfied: idna<2.9,>=2.5 in c:\\users\\dell\\anaconda3\\lib\\site-packages (from requests>=2.11.1->tweepy) (2.8)\n",
      "Requirement already satisfied: certifi>=2017.4.17 in c:\\users\\dell\\anaconda3\\lib\\site-packages (from requests>=2.11.1->tweepy) (2019.6.16)\n",
      "Requirement already satisfied: urllib3!=1.25.0,!=1.25.1,<1.26,>=1.21.1 in c:\\users\\dell\\anaconda3\\lib\\site-packages (from requests>=2.11.1->tweepy) (1.24.2)\n",
      "Requirement already satisfied: oauthlib>=3.0.0 in c:\\users\\dell\\anaconda3\\lib\\site-packages (from requests-oauthlib>=0.7.0->tweepy) (3.1.0)\n",
      "Note: you may need to restart the kernel to use updated packages.\n"
     ]
    }
   ],
   "source": [
    "pip install tweepy"
   ]
  },
  {
   "cell_type": "code",
   "execution_count": 3,
   "metadata": {},
   "outputs": [],
   "source": [
    "import tweepy"
   ]
  },
  {
   "cell_type": "code",
   "execution_count": 4,
   "metadata": {},
   "outputs": [],
   "source": [
    "auth = tweepy.OAuthHandler(consumer_key, consumer_secret)\n",
    "auth.set_access_token(access_token,access_token_secret)"
   ]
  },
  {
   "cell_type": "code",
   "execution_count": 5,
   "metadata": {},
   "outputs": [],
   "source": [
    "api = tweepy.API(auth)"
   ]
  },
  {
   "cell_type": "markdown",
   "metadata": {},
   "source": [
    "# Get my timeline"
   ]
  },
  {
   "cell_type": "code",
   "execution_count": 9,
   "metadata": {},
   "outputs": [],
   "source": [
    "tweets = api.home_timeline()"
   ]
  },
  {
   "cell_type": "code",
   "execution_count": 10,
   "metadata": {},
   "outputs": [
    {
     "name": "stdout",
     "output_type": "stream",
     "text": [
      "#Karnataka में रात्रि कर्फ्यू के वक्त में भी बदलाव किया गया है. अब रात 8 बजे से सुबह 5 बजे तक कर्फ्यू लागू होगा\n",
      "#RE\n",
      "\n",
      "https://t.co/YQxIEXDAq6\n",
      "#ExpressFrontPage | Kejriwal said that by the first week of June, patients started struggling for beds.\n",
      "\n",
      "https://t.co/BmJk4ZwRzB\n",
      "709-km 'megaflash' in Brazil sets longest lightning bolt record.\n",
      "\n",
      "https://t.co/uKaveSxez9\n",
      "Families of several migrant workers who died on board Shramik Special trains can seek compensation through the rail… https://t.co/IpEKcwPOnv\n",
      "Like HIV, corona hits immune cells: Studies https://t.co/t6g0op8PLa via @timesofindia\n",
      "UK police charge suspect with murder of 3 in Reading park\n",
      "\n",
      "https://t.co/yj9lzHWe6w https://t.co/eaIB7iXhrh\n",
      "United needs extra time to reach FA Cup semis; Wolves in 5th https://t.co/AYNY9OtcKQ\n",
      "Pak rejects domicile certificates granted by India to non-natives of J-K\n",
      "\n",
      "https://t.co/buGOuECtVN https://t.co/H1W5gAlMDx\n",
      "First to pass Class 12, she’s star of vanishing tribe https://t.co/IEcJ6jNo9v\n",
      "Biden says Trump did nothing as Russia placed bounties on US Army personnel\n",
      "\n",
      "https://t.co/NtiK1XzfKZ\n",
      "कोरोना संक्रमित लोगों की संख्या में तेज़ी से बढ़ोतरी  \n",
      "#Corona #Coronavirus #COVID19  \n",
      "https://t.co/OmIOIjsmrg\n",
      "TTK Prestige to stop imports from China https://t.co/SaYLsyM995\n",
      "Gandhi tweeted out a media report in support of his comments and remarked that while coronavirus is rapidly spreadi… https://t.co/XvvhERhoEr\n",
      "BJP fires 10 questions at Sonia on RGF donations, China MoU https://t.co/QmffwodsmX\n",
      "PB threatens to cut PTI ties over ‘anti-national’ coverage https://t.co/c8OLHUsXdo\n",
      "Government's J&amp;K step led to Galwan face-off: CPM mouthpiece https://t.co/ybzc7YkmUE\n",
      "Can’t compare 1962 with now: Congress https://t.co/v2PBoOUsfg\n",
      "दिल्ली बॉर्डर पर टिड्डयों का आतंक, #Gurgaon , #UttarPradesh और दिल्ली के सीमावर्ती इलाके प्रभावित\n",
      " https://t.co/MvlQj9PpVj\n",
      "Demand drops, just 4 Shramik Specials in 2 days https://t.co/gW1mxylzSY\n",
      "Blow to RJD as Bihar unit vice-president quits party https://t.co/z5dF0gm9kI\n"
     ]
    }
   ],
   "source": [
    "for tweet in tweets:\n",
    "    print(tweet.text)"
   ]
  },
  {
   "cell_type": "markdown",
   "metadata": {},
   "source": [
    "## Get tweet stream and do sentiment analysis"
   ]
  },
  {
   "cell_type": "code",
   "execution_count": 11,
   "metadata": {},
   "outputs": [],
   "source": [
    "consumer_key = \"xPdL7cT5vIkspHsfwDgcjzT0i\"\n",
    "consumer_secret = \"S0vuAEyc1g4PtFVeFX7GCPj0lz5VizuZ3VFjb4joQ2qeZCW0LO\"\n",
    "access_token = \"1276871043567607808-Tb53fylX149zN9Iskh6MfK8TgQk3EB\"\n",
    "access_token_secret = \"rMPbZr6mZhXymcuoMVzkKIhbHV7dMjoHMmHiNNdFAlLkp\""
   ]
  },
  {
   "cell_type": "code",
   "execution_count": 12,
   "metadata": {},
   "outputs": [],
   "source": [
    "import tweepy\n",
    "from tweepy import Stream\n",
    "from tweepy import StreamListener\n",
    "import json\n",
    "from textblob import TextBlob"
   ]
  },
  {
   "cell_type": "code",
   "execution_count": 13,
   "metadata": {},
   "outputs": [],
   "source": [
    "import re\n",
    "import csv"
   ]
  },
  {
   "cell_type": "code",
   "execution_count": 14,
   "metadata": {},
   "outputs": [],
   "source": [
    "modi = 0\n",
    "rahul = 0\n",
    "header_name = ['Narendra Modi','Rahul Gandhi']\n",
    "with open('sentiment.csv','w') as file:\n",
    "    writer = csv.DictWriter(file,fieldnames=header_name)\n",
    "    writer.writeheader()\n",
    "    \n",
    "class Listener(StreamListener):\n",
    "    def on_data(self,data):\n",
    "        raw_tweets = json.loads(data)\n",
    "        try:\n",
    "            tweets = raw_tweets['text']\n",
    "            tweets = ' '.join(re.sub(\"(@[A-Za-z0-9]+)|([^0-9A-Za-z \\t])|(\\w+:\\/\\/\\S+)\",\" \",tweets).split())\n",
    "            tweets = ' '.join(re.sub('RT',' ', tweets).split())\n",
    "            blob = TextBlob(tweets.strip())\n",
    "            ## We will create local variable of modi and gandhi so that we can use them here again\n",
    "            global modi\n",
    "            global rahul\n",
    "            ## local variable of modi and rahul\n",
    "            modi_sentiment = 0\n",
    "            rahul_sentiment = 0\n",
    "            ##Sentiment analysis for \"Narendra Modi\" and then \"Rahul Gandhi\"\n",
    "            for sent in blob.sentences:\n",
    "                if \"Narendra Modi\" in sent and \"Rahul Gandhi\" not in sent:\n",
    "                    modi_sentiment = modi_sentiment + sent.sentiment.polarity\n",
    "                else:\n",
    "                    rahul_sentiment = rahul_sentiment + sent.sentiment.polarity\n",
    "                    \n",
    "            modi = modi + modi_sentiment\n",
    "            rahul = rahul + rahul_sentiment\n",
    "            \n",
    "            with open('sentiment.csv', 'a') as file:\n",
    "                writer = csv.DictWriter(file,fieldnames=header_name)\n",
    "                info = {\n",
    "                    'Narendra Modi': modi,\n",
    "                    'Rahul Gandhi' : rahul\n",
    "                }\n",
    "                \n",
    "                writer.writerow(info)\n",
    "            \n",
    "            print(tweets)\n",
    "            print()\n",
    "        except:\n",
    "            print('ERROR')\n",
    "    def on_error(self,status):\n",
    "        print(status)"
   ]
  },
  {
   "cell_type": "code",
   "execution_count": 15,
   "metadata": {},
   "outputs": [],
   "source": [
    "auth = tweepy.OAuthHandler(consumer_key, consumer_secret)\n",
    "auth.set_access_token(access_token,access_token_secret)"
   ]
  },
  {
   "cell_type": "code",
   "execution_count": 16,
   "metadata": {},
   "outputs": [
    {
     "name": "stderr",
     "output_type": "stream",
     "text": [
      "[nltk_data] Downloading package punkt to\n",
      "[nltk_data]     C:\\Users\\Dell\\AppData\\Roaming\\nltk_data...\n",
      "[nltk_data]   Package punkt is already up-to-date!\n"
     ]
    },
    {
     "data": {
      "text/plain": [
       "True"
      ]
     },
     "execution_count": 16,
     "metadata": {},
     "output_type": "execute_result"
    }
   ],
   "source": [
    "import nltk\n",
    "nltk.download('punkt')"
   ]
  },
  {
   "cell_type": "code",
   "execution_count": null,
   "metadata": {},
   "outputs": [
    {
     "name": "stdout",
     "output_type": "stream",
     "text": [
      "IndiaChina\n",
      "\n",
      "Modi Shah duo pretends that by attacking Rahul Gandhi they are winning against Pakistan and China And Bhakts believe them\n",
      "\n",
      "Modi Shah duo pretends that by attacking Rahul Gandhi they are winning against Pakistan and China And Bhakts believe them\n",
      "\n",
      "Modi Shah duo pretends that by attacking Rahul Gandhi they are winning against Pakistan and China And Bhakts believe them\n",
      "\n",
      "Rahul Gandhi pappu\n",
      "\n",
      "Govt of India has fought well against Corona I can t advise Rahul Gandhi that s the job of his party leaders Some people\n",
      "\n",
      "\n",
      "\n",
      "5 6\n",
      "\n",
      "Narendra Modi 63 25 ndia Donald Trump 62 27 EUA Jair Bolsonaro 52 75 BRASIL\n",
      "\n",
      "LOCViolationsbyIndia We urged the international community to realize the anti Muslim agenda of Indian Prime Minister Naren\n",
      "\n",
      "Ye Rahul Gandhi pe baat karta hai lekin Sikander Kher pe baat nai karega\n",
      "\n",
      "Modi Shah duo pretends that by attacking Rahul Gandhi they are winning against Pakistan and China And Bhakts believe them\n",
      "\n",
      "Narendra Damodar Modi is a flag bearer of corruption Pass it on\n",
      "\n",
      "Thousands of years back Chanakya had said child of a foreigner mother can never be a patriot Today whenever Rahul Gandhi op\n",
      "\n",
      "ahluwalia Rahul Gandhi\n",
      "\n",
      "Modi Shah duo pretends that by attacking Rahul Gandhi they are winning against Pakistan and China And Bhakts believe them\n",
      "\n",
      "Kunal Kamra gets kidnapped Notice board Rahul Gandhi s Left testicle missing\n",
      "\n",
      "Man ki baat is now Jhoot ki baat\n",
      "\n",
      "Modi Shah duo pretends that by attacking Rahul Gandhi they are winning against Pakistan and China And Bhakts believe them\n",
      "\n",
      "kalidas Rahul Gandhi Future of India Narendra Modi Disaster of India\n",
      "\n",
      "Thousands of years back Chanakya had said child of a foreigner mother can never be a patriot Today whenever Rahul Gandhi op\n",
      "\n",
      "\n",
      "\n",
      "Martyr Kundan Kumar s father from Bihar said that he will send his grandsons also to armed forces to protect the country This is\n",
      "\n",
      "Bharat 1962\n",
      "\n",
      "in The prime minister s radio programme and home minister s interview to ANI both seemed to have the same agenda turn up the\n",
      "\n",
      "I asked ABV why did he agree to help PVNR when Congress Govt was in a pickle on Iran sponsored anti India resolution at U\n",
      "\n",
      "com Sab yaad rakha jayega PM Modi and HM Amit Shah take on China and China sympathisers on the same day\n",
      "\n",
      "Modi Shah duo pretends that by attacking Rahul Gandhi they are winning against Pakistan and China And Bhakts believe them\n",
      "\n",
      "I asked ABV why did he agree to help PVNR when Congress Govt was in a pickle on Iran sponsored anti India resolution at U\n",
      "\n",
      "DEFINITION A Bhakt is one who blindly supports Narendra Modi questions Rahul Gandhi for Modi s failures and blames Cha\n",
      "\n",
      "WATCH Parliament honi hai charcha karni hai to aaiye karenge 1962 se aaj tak do do haath ho jayein HM Amit Shah on Rahul\n",
      "\n",
      "Modi Shah duo pretends that by attacking Rahul Gandhi they are winning against Pakistan and China And Bhakts believe them\n",
      "\n",
      "As per appeal of our leader Ji lighted candles to pay tributes to our lost brothers amp pledged that we shall\n",
      "\n",
      "I asked ABV why did he agree to help PVNR when Congress Govt was in a pickle on Iran sponsored anti India resolution at U\n",
      "\n",
      "com Sab yaad rakha jayega PM Modi and HM Amit Shah take on China and China sympathisers on the same day\n",
      "\n",
      "Both have Rahul Gandhi as brother in law\n",
      "\n",
      "Thousands of years back Chanakya had said child of a foreigner mother can never be a patriot Today whenever Rahul Gandhi op\n",
      "\n",
      "I asked ABV why did he agree to help PVNR when Congress Govt was in a pickle on Iran sponsored anti India resolution at U\n",
      "\n",
      "\n",
      "\n",
      "If these are right things then what are wrong things Absolutely disgusting that you can even dare to say that you fought\n",
      "\n",
      "Mitron Those is the new name for China\n",
      "\n",
      "Arnab Goswami and Savio Rodrigues combine to ask BJP one question When we the government act aga\n",
      "\n",
      "bfuhs had not listened to CM so is there any surity that they will follow the guidelines of UGC why are we being fo\n",
      "\n",
      "5 6\n",
      "\n",
      "Thousands of years back Chanakya had said child of a foreigner mother can never be a patriot Today whenever Rahul Gandhi op\n",
      "\n",
      "ModiStrongestPmEver 6\n",
      "\n",
      "How do you think the Narendra Modi govt has handled the China conflict so far\n",
      "\n",
      "How do you think the Narendra Modi govt has handled the China conflict so far\n",
      "\n",
      "If these are right things then what are wrong things Absolutely disgusting that you can even dare to say that you fought\n",
      "\n",
      "Modi Shah duo pretends that by attacking Rahul Gandhi they are winning against Pakistan and China And Bhakts believe them\n",
      "\n",
      "Come let s discuss in Parliament all that s happened since 1962 We aren t afraid of free amp frank discussions But when our\n",
      "\n",
      "Modi Shah duo pretends that by attacking Rahul Gandhi they are winning against Pakistan and China And Bhakts believe them\n",
      "\n",
      "Modi Shah duo pretends that by attacking Rahul Gandhi they are winning against Pakistan and China And Bhakts believe them\n",
      "\n",
      "RahulGandhi 1962 Politics IndianNationalCongress BJP In\n",
      "\n",
      "Sh Rahul Gandhi paid tributes to Former Congress President and PM Sh PV Narsimha Rao Ji at 11 30 in the morning But\n",
      "\n",
      "Rahul Gandhi and Uditraj discussion about how to make India 1\n",
      "\n",
      "Those who Who Mars Pluto Andromeda Who eyed India s territory\n",
      "\n",
      "We re capable of handling anti India propaganda but its painful when a former president of Congress Rahul Gandhi does belo\n",
      "\n",
      "This is what Rahul Gandhi and so called seculars trying to do Defeat India by asking information and media also playing same\n",
      "\n",
      "theindian I am with you because yah log hi desh ko ek din bache Dege or fir bolege desh ke liye kam karte h\n",
      "\n",
      "Here are the links sources for the above info 1 US Report 2 3 h\n",
      "\n",
      "Thousands of years back Chanakya had said child of a foreigner mother can never be a patriot Today whenever Rahul Gandhi op\n",
      "\n",
      "\n",
      "\n",
      "\n",
      "\n"
     ]
    }
   ],
   "source": [
    "twitter_stream = Stream(auth, Listener())\n",
    "twitter_stream.filter(track = ['Narendra Modi' ,'Rahul Gandhi'])"
   ]
  },
  {
   "cell_type": "code",
   "execution_count": null,
   "metadata": {},
   "outputs": [],
   "source": []
  },
  {
   "cell_type": "code",
   "execution_count": null,
   "metadata": {},
   "outputs": [],
   "source": []
  }
 ],
 "metadata": {
  "kernelspec": {
   "display_name": "Python 3",
   "language": "python",
   "name": "python3"
  },
  "language_info": {
   "codemirror_mode": {
    "name": "ipython",
    "version": 3
   },
   "file_extension": ".py",
   "mimetype": "text/x-python",
   "name": "python",
   "nbconvert_exporter": "python",
   "pygments_lexer": "ipython3",
   "version": "3.7.3"
  }
 },
 "nbformat": 4,
 "nbformat_minor": 2
}
